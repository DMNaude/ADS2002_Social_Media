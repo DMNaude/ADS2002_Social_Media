{
 "cells": [
  {
   "cell_type": "code",
   "execution_count": 7,
   "id": "6ec9f951",
   "metadata": {},
   "outputs": [
    {
     "data": {
      "image/png": "[encoded data removed]",
      "text/plain": [
       "<Figure size 432x288 with 1 Axes>"
      ]
     },
     "metadata": {
      "needs_background": "light"
     },
     "output_type": "display_data"
    }
   ],
   "source": [
    "import numpy as np\n",
    "import matplotlib.pyplot as plt\n",
    "import seaborn as sns\n",
    "import pandas as pd\n",
    "from nltk.tokenize import word_tokenize\n",
    "\n",
    "twitter = pd.read_csv(\"twitter_cleaned.csv\", index_col = 0)\n",
    "instagram = pd.read_csv(\"instagram_cleaned.csv\", index_col = 0)\n",
    "facebook = pd.read_csv(\"facebook_cleaned.csv\", index_col = 0)\n",
    "\n",
    "a = twitter.describe()\n",
    "b = instagram.describe()\n",
    "c = facebook.describe()\n",
    "\n",
    "plt.hist(twitter.likes, bins = 10);\n",
    "plt.show()\n",
    "\n",
    "twitter['tokens'] = twitter['content'].apply(word_tokenize) \n",
    "instagram['tokens'] = instagram['content'].apply(word_tokenize) \n",
    "facebook['tokens'] = twitter['content'].apply(word_tokenize) "
   ]
  },
  {
   "cell_type": "code",
   "execution_count": null,
   "id": "3ed62f0b",
   "metadata": {},
   "outputs": [],
   "source": []
  }
 ],
 "metadata": {
  "kernelspec": {
   "display_name": "Python 3",
   "language": "python",
   "name": "python3"
  },
  "language_info": {
   "codemirror_mode": {
    "name": "ipython",
    "version": 3
   },
   "file_extension": ".py",
   "mimetype": "text/x-python",
   "name": "python",
   "nbconvert_exporter": "python",
   "pygments_lexer": "ipython3",
   "version": "3.7.10"
  }
 },
 "nbformat": 4,
 "nbformat_minor": 5
}
