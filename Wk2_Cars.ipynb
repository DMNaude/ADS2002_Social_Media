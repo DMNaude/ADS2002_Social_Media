{
  "nbformat": 4,
  "nbformat_minor": 0,
  "metadata": {
    "colab": {
      "provenance": [],
      "include_colab_link": true
    },
    "kernelspec": {
      "name": "python3",
      "display_name": "Python 3"
    },
    "language_info": {
      "name": "python"
    }
  },
  "cells": [
    {
      "cell_type": "markdown",
      "metadata": {
        "id": "view-in-github",
        "colab_type": "text"
      },
      "source": [
        "<a href=\"https://colab.research.google.com/github/DMNaude/ADS2002_Social_Media/blob/Oliver/Wk2_Cars.ipynb\" target=\"_parent\"><img src=\"https://colab.research.google.com/assets/colab-badge.svg\" alt=\"Open In Colab\"/></a>"
      ]
    },
    {
      "cell_type": "code",
      "source": [
        "from google.colab import drive\n",
        "drive.mount('/content/drive')\n",
        "\n"
      ],
      "metadata": {
        "colab": {
          "base_uri": "https://localhost:8080/"
        },
        "id": "wVHCm9GVM2Wr",
        "outputId": "db852c6a-516f-4a0a-e352-52ca0fec789a"
      },
      "execution_count": 3,
      "outputs": [
        {
          "output_type": "stream",
          "name": "stdout",
          "text": [
            "Drive already mounted at /content/drive; to attempt to forcibly remount, call drive.mount(\"/content/drive\", force_remount=True).\n"
          ]
        }
      ]
    },
    {
      "cell_type": "code",
      "execution_count": 6,
      "metadata": {
        "colab": {
          "base_uri": "https://localhost:8080/"
        },
        "id": "ojgwpDJoFiZX",
        "outputId": "c67194de-c16c-4acc-a536-bd20dcf7e155"
      },
      "outputs": [
        {
          "output_type": "stream",
          "name": "stdout",
          "text": [
            "The R^2 of the model is 0.7596\n",
            "The coefficient on weight is -1.5873 and the coefficient on horsepower is -0.0206\n",
            "The intercept is 34.6610\n"
          ]
        }
      ],
      "source": [
        "import pandas as pd\n",
        "from sklearn.linear_model import LinearRegression\n",
        "\n",
        "cars = pd.read_csv(\"/content/drive/MyDrive/ADS2002_Social_Media/mtcars.csv\")\n",
        "\n",
        "Y = cars.loc[:,\"mpg\"]\n",
        "X = cars.loc[:,[\"cyl\",\"disp\"]]\n",
        "\n",
        "reg = LinearRegression().fit(X,Y)\n",
        "\n",
        "score = reg.score(X,Y)\n",
        "print(f\"The R^2 of the model is {score:.4f}\")\n",
        "print(f\"The coefficient on weight is {reg.coef_[0]:.4f} and the coefficient on horsepower is {reg.coef_[1]:.4f}\")\n",
        "print(f\"The intercept is {reg.intercept_:.4f}\")"
      ]
    },
    {
      "cell_type": "code",
      "source": [
        "!pwd\n"
      ],
      "metadata": {
        "colab": {
          "base_uri": "https://localhost:8080/"
        },
        "id": "lZCgcD2oHBy8",
        "outputId": "32b9fc77-ab92-4e1b-a93e-dd7f0823a815"
      },
      "execution_count": 5,
      "outputs": [
        {
          "output_type": "stream",
          "name": "stdout",
          "text": [
            "/content\n"
          ]
        }
      ]
    }
  ]
}