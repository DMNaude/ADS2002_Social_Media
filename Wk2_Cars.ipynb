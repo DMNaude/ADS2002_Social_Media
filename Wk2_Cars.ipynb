{
  "nbformat": 4,
  "nbformat_minor": 0,
  "metadata": {
    "colab": {
      "provenance": [],
      "mount_file_id": "1EERtRQGEElqzBfplrr-pk34AbQNfypcy",
      "authorship_tag": "ABX9TyM2ep6JpP701zsu82Fs2MJT",
      "include_colab_link": true
    },
    "kernelspec": {
      "name": "python3",
      "display_name": "Python 3"
    },
    "language_info": {
      "name": "python"
    }
  },
  "cells": [
    {
      "cell_type": "markdown",
      "metadata": {
        "id": "view-in-github",
        "colab_type": "text"
      },
      "source": [
        "<a href=\"https://colab.research.google.com/github/DMNaude/ADS2002_Social_Media/blob/main/Wk2_Cars.ipynb\" target=\"_parent\"><img src=\"https://colab.research.google.com/assets/colab-badge.svg\" alt=\"Open In Colab\"/></a>"
      ]
    },
    {
      "cell_type": "code",
      "execution_count": null,
      "metadata": {
        "colab": {
          "base_uri": "https://localhost:8080/"
        },
        "id": "ojgwpDJoFiZX",
        "outputId": "ea76ea24-e9dd-49af-c13c-ee45688ab216"
      },
      "outputs": [
        {
          "output_type": "stream",
          "name": "stdout",
          "text": [
            "The R^2 of the model is 0.8268\n",
            "The coefficient on weight is -3.8778 and the coefficient on horsepower is -0.0318\n",
            "The intercept is 37.2273\n"
          ]
        }
      ],
      "source": [
        "import pandas as pd\n",
        "from sklearn.linear_model import LinearRegression\n",
        "\n",
        "cars = pd.read_csv(\"mtcars.csv\")\n",
        "\n",
        "Y = cars.loc[:,\"mpg\"]\n",
        "X = cars.loc[:,[\"wt\",\"hp\"]]\n",
        "\n",
        "reg = LinearRegression().fit(X,Y)\n",
        "\n",
        "score = reg.score(X,Y)\n",
        "print(f\"The R^2 of the model is {score:.4f}\")\n",
        "print(f\"The coefficient on weight is {reg.coef_[0]:.4f} and the coefficient on horsepower is {reg.coef_[1]:.4f}\")\n",
        "print(f\"The intercept is {reg.intercept_:.4f}\")"
      ]
    },
    {
      "cell_type": "code",
      "source": [
        "!pwd\n"
      ],
      "metadata": {
        "colab": {
          "base_uri": "https://localhost:8080/"
        },
        "id": "lZCgcD2oHBy8",
        "outputId": "22f7cf94-39a7-4a07-a426-7afcae29e56c"
      },
      "execution_count": null,
      "outputs": [
        {
          "output_type": "stream",
          "name": "stdout",
          "text": [
            "/content\n"
          ]
        }
      ]
    },
    {
      "cell_type": "code",
      "source": [],
      "metadata": {
        "id": "a-ilxXeIKJsG"
      },
      "execution_count": null,
      "outputs": []
    }
  ]
}