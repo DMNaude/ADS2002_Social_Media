{
  "nbformat": 4,
  "nbformat_minor": 0,
  "metadata": {
    "colab": {
      "provenance": [],
      "include_colab_link": true
    },
    "kernelspec": {
      "name": "python3",
      "display_name": "Python 3"
    },
    "language_info": {
      "name": "python"
    }
  },
  "cells": [
    {
      "cell_type": "markdown",
      "metadata": {
        "id": "view-in-github",
        "colab_type": "text"
      },
      "source": [
        "<a href=\"https://colab.research.google.com/github/DMNaude/ADS2002_Social_Media/blob/hardit/Wk2_Cars.ipynb\" target=\"_parent\"><img src=\"https://colab.research.google.com/assets/colab-badge.svg\" alt=\"Open In Colab\"/></a>"
      ]
    },
    {
      "cell_type": "code",
      "source": [
        "from google.colab import drive\n",
        "drive.mount('/content/drive')\n",
        "\n"
      ],
      "metadata": {
        "colab": {
          "base_uri": "https://localhost:8080/"
        },
        "id": "wVHCm9GVM2Wr",
        "outputId": "36a4e9df-77c7-4641-c8e1-18fc0fd9afee"
      },
      "execution_count": 1,
      "outputs": [
        {
          "output_type": "stream",
          "name": "stdout",
          "text": [
            "Mounted at /content/drive\n"
          ]
        }
      ]
    },
    {
      "cell_type": "code",
      "execution_count": 3,
      "metadata": {
        "colab": {
          "base_uri": "https://localhost:8080/"
        },
        "id": "ojgwpDJoFiZX",
        "outputId": "fd277562-6dda-4fb0-f669-b43cb3367f08"
      },
      "outputs": [
        {
          "output_type": "stream",
          "name": "stdout",
          "text": [
            "The R^2 of the model is 0.7482\n",
            "The coefficient on weight is -0.0303 and the coefficient on horsepower is -0.0248\n",
            "The intercept is 30.7359\n"
          ]
        }
      ],
      "source": [
        "import pandas as pd\n",
        "from sklearn.linear_model import LinearRegression\n",
        "\n",
        "cars = pd.read_csv(\"/content/drive/MyDrive/ADS2002 Social Media/mtcars.csv\")\n",
        "\n",
        "Y = cars.loc[:,\"mpg\"]\n",
        "X = cars.loc[:,[\"disp\",\"hp\"]]\n",
        "\n",
        "reg = LinearRegression().fit(X,Y)\n",
        "\n",
        "score = reg.score(X,Y)\n",
        "print(f\"The R^2 of the model is {score:.4f}\")\n",
        "print(f\"The coefficient on weight is {reg.coef_[0]:.4f} and the coefficient on horsepower is {reg.coef_[1]:.4f}\")\n",
        "print(f\"The intercept is {reg.intercept_:.4f}\")"
      ]
    },
    {
      "cell_type": "code",
      "source": [
        "from google.colab import drive\n",
        "drive.mount('/content/drive')"
      ],
      "metadata": {
        "id": "PmaHitF5R3rP",
        "outputId": "fe2d4074-e6c7-48f8-963f-98d20fd9928b",
        "colab": {
          "base_uri": "https://localhost:8080/"
        }
      },
      "execution_count": 5,
      "outputs": [
        {
          "output_type": "stream",
          "name": "stdout",
          "text": [
            "Drive already mounted at /content/drive; to attempt to forcibly remount, call drive.mount(\"/content/drive\", force_remount=True).\n"
          ]
        }
      ]
    },
    {
      "cell_type": "code",
      "source": [
        "!pwd\n"
      ],
      "metadata": {
        "colab": {
          "base_uri": "https://localhost:8080/"
        },
        "id": "lZCgcD2oHBy8",
        "outputId": "22f7cf94-39a7-4a07-a426-7afcae29e56c"
      },
      "execution_count": null,
      "outputs": [
        {
          "output_type": "stream",
          "name": "stdout",
          "text": [
            "/content\n"
          ]
        }
      ]
    }
  ]
}